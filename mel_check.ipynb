{
 "cells": [
  {
   "cell_type": "markdown",
   "source": [
    "# melのチェックを行う用のノートブック"
   ],
   "metadata": {}
  },
  {
   "cell_type": "code",
   "execution_count": null,
   "source": [
    "# ここに確認したいwavを配置.\r\n",
    "\r\n",
    "input_wav_paths = ['./pre_voice/Universal/jsut_ver1.1_BASIC5000_0001.wav', './pre_voice/Universal/VCTK-Corpus_p257_256.wav']\r\n",
    "\r\n",
    "p_config = './config/JSUT_JSSS/preprocess.yaml'"
   ],
   "outputs": [],
   "metadata": {}
  },
  {
   "cell_type": "code",
   "execution_count": null,
   "source": [
    "# まずは, NARS2Sのほう.\r\n",
    "import yaml\r\n",
    "\r\n",
    "from utils.utils import get_mels, plot_mels\r\n",
    "\r\n",
    "preprocess_config = yaml.load(\r\n",
    "        open(p_config, \"r\", encoding='utf-8'), Loader=yaml.FullLoader\r\n",
    "    )\r\n",
    "mels = get_mels(wav_paths=input_wav_paths, config=preprocess_config, mel_num=80)\r\n",
    "\r\n",
    "plot_mels(mels, input_wav_paths, sr=preprocess_config[\"preprocessing\"][\"audio\"][\"sampling_rate\"], sharex=False)"
   ],
   "outputs": [],
   "metadata": {}
  },
  {
   "cell_type": "code",
   "execution_count": null,
   "source": [
    "# hifiganのものでmelを作ってみる.\r\n",
    "import os\r\n",
    "\r\n",
    "from tqdm import tqdm\r\n",
    "import torch\r\n",
    "\r\n",
    "from hifigan.meldataset import load_wav, mel_spectrogram\r\n",
    "\r\n",
    "mels = []\r\n",
    "\r\n",
    "sr = preprocess_config[\"preprocessing\"][\"audio\"][\"sampling_rate\"]\r\n",
    "n_fft = preprocess_config[\"preprocessing\"][\"stft\"][\"filter_length\"]\r\n",
    "num_mels = preprocess_config[\"preprocessing\"][\"mel\"][\"n_mel_channels\"]\r\n",
    "hop_size = preprocess_config[\"preprocessing\"][\"stft\"][\"hop_length\"]\r\n",
    "win_size = preprocess_config[\"preprocessing\"][\"stft\"][\"win_length\"]\r\n",
    "fmin = preprocess_config[\"preprocessing\"][\"mel\"][\"mel_fmin\"]\r\n",
    "fmax = preprocess_config[\"preprocessing\"][\"mel\"][\"mel_fmax\"]\r\n",
    "\r\n",
    "for wav_path in tqdm(input_wav_paths):\r\n",
    "    audio, sampling_rate = load_wav(wav_path, sr)\r\n",
    "    assert sampling_rate == sr\r\n",
    "    # audio = audio / 32768.0\r\n",
    "    audio = torch.FloatTensor(audio).to(\"cuda\")\r\n",
    "    audio = audio.unsqueeze(0)\r\n",
    "\r\n",
    "    mel = mel_spectrogram(audio, n_fft, num_mels, sr,\r\n",
    "                            hop_size, win_size, fmin, fmax)\r\n",
    "    mel = mel.squeeze(0).cpu().numpy()\r\n",
    "    mels.append(mel)\r\n",
    "\r\n",
    "plot_mels(mels, input_wav_paths, sr=sr, sharex=False)\r\n"
   ],
   "outputs": [],
   "metadata": {}
  },
  {
   "cell_type": "code",
   "execution_count": null,
   "source": [
    "import shutil\r\n",
    "import os\r\n",
    "from glob import glob\r\n",
    "from tqdm import tqdm\r\n",
    "\r\n",
    "input_path = './raw_data/JSUT_JSSS/JSSS'\r\n",
    "output_path = './raw_data/JSUT_to_from_JSSS/target'\r\n",
    "\r\n",
    "os.makedirs(output_path, exist_ok=True)\r\n",
    "for t_path in tqdm(glob(os.path.join(input_path,'*.wav'))):\r\n",
    "    output_wav_path = os.path.join(output_path, \"JSUT2JSSS_\"+os.path.basename(t_path))\r\n",
    "    shutil.copy(t_path, output_wav_path)"
   ],
   "outputs": [],
   "metadata": {}
  },
  {
   "cell_type": "code",
   "execution_count": null,
   "source": [
    "import shutil\r\n",
    "import os\r\n",
    "from glob import glob\r\n",
    "from tqdm import tqdm\r\n",
    "\r\n",
    "input_path = './raw_data/JSUT_to_from_JSSS'\r\n",
    "\r\n",
    "for t_path in tqdm(glob(os.path.join(input_path,'**/*.wav'), recursive=True)):\r\n",
    "    output_wav_path = t_path\r\n",
    "    if \"JSSS2JSUT\" in t_path:\r\n",
    "        output_wav_path = output_wav_path.replace(\"JSSS2JSUT\", \"JSSS_JSUT\")\r\n",
    "    elif \"JSUT2JSSS\" in t_path:\r\n",
    "        output_wav_path = output_wav_path.replace(\"JSUT2JSSS\", \"JSUT_JSSS\")\r\n",
    "    os.rename(t_path, output_wav_path)"
   ],
   "outputs": [],
   "metadata": {}
  },
  {
   "cell_type": "code",
   "execution_count": 30,
   "source": [
    "# ちゃんと存在しているかチェック(さっきはしていなかった)\r\n",
    "import glob\r\n",
    "import os\r\n",
    "import tqdm\r\n",
    "\r\n",
    "s_wav_path = glob.glob('./pre_voice/jsut_jsss_jvs/source/*.wav')\r\n",
    "t_wav_path = glob.glob('./pre_voice/jsut_jsss_jvs/target/*.wav')\r\n",
    "\r\n",
    "for a, b in tqdm.tqdm(zip(s_wav_path, t_wav_path)):\r\n",
    "    assert os.path.basename(a) == os.path.basename(b), print(a,b)"
   ],
   "outputs": [
    {
     "output_type": "stream",
     "name": "stderr",
     "text": [
      "45258it [00:00, 109583.38it/s]\n"
     ]
    }
   ],
   "metadata": {}
  },
  {
   "cell_type": "code",
   "execution_count": 32,
   "source": [
    "# ちゃんと存在しているかチェック(さっきはしていなかった)\r\n",
    "import glob\r\n",
    "import os\r\n",
    "import tqdm\r\n",
    "\r\n",
    "s_wav_path = glob.glob('./preprocessed_data/jsut_jsss_jvs/source/mel/*.npy')\r\n",
    "t_wav_path = glob.glob('./preprocessed_data/jsut_jsss_jvs/target/mel/*.npy')\r\n",
    "\r\n",
    "for a, b in tqdm.tqdm(zip(s_wav_path, t_wav_path)):\r\n",
    "    assert os.path.basename(a) == os.path.basename(b), print(a,b)"
   ],
   "outputs": [
    {
     "output_type": "stream",
     "name": "stderr",
     "text": [
      "9752it [00:00, 88253.51it/s]"
     ]
    },
    {
     "output_type": "stream",
     "name": "stdout",
     "text": [
      "./preprocessed_data/jsut_jsss_jvs/source/mel\\mel-jvs009_jvs002_096.npy ./preprocessed_data/jsut_jsss_jvs/target/mel\\mel-jvs009_jvs002_095.npy\n"
     ]
    },
    {
     "output_type": "stream",
     "name": "stderr",
     "text": [
      "\n"
     ]
    },
    {
     "output_type": "error",
     "ename": "AssertionError",
     "evalue": "None",
     "traceback": [
      "\u001b[1;31m---------------------------------------------------------------------------\u001b[0m",
      "\u001b[1;31mAssertionError\u001b[0m                            Traceback (most recent call last)",
      "\u001b[1;32m<ipython-input-32-352ef0d089e6>\u001b[0m in \u001b[0;36m<module>\u001b[1;34m\u001b[0m\n\u001b[0;32m      8\u001b[0m \u001b[1;33m\u001b[0m\u001b[0m\n\u001b[0;32m      9\u001b[0m \u001b[1;32mfor\u001b[0m \u001b[0ma\u001b[0m\u001b[1;33m,\u001b[0m \u001b[0mb\u001b[0m \u001b[1;32min\u001b[0m \u001b[0mtqdm\u001b[0m\u001b[1;33m.\u001b[0m\u001b[0mtqdm\u001b[0m\u001b[1;33m(\u001b[0m\u001b[0mzip\u001b[0m\u001b[1;33m(\u001b[0m\u001b[0ms_wav_path\u001b[0m\u001b[1;33m,\u001b[0m \u001b[0mt_wav_path\u001b[0m\u001b[1;33m)\u001b[0m\u001b[1;33m)\u001b[0m\u001b[1;33m:\u001b[0m\u001b[1;33m\u001b[0m\u001b[1;33m\u001b[0m\u001b[0m\n\u001b[1;32m---> 10\u001b[1;33m     \u001b[1;32massert\u001b[0m \u001b[0mos\u001b[0m\u001b[1;33m.\u001b[0m\u001b[0mpath\u001b[0m\u001b[1;33m.\u001b[0m\u001b[0mbasename\u001b[0m\u001b[1;33m(\u001b[0m\u001b[0ma\u001b[0m\u001b[1;33m)\u001b[0m \u001b[1;33m==\u001b[0m \u001b[0mos\u001b[0m\u001b[1;33m.\u001b[0m\u001b[0mpath\u001b[0m\u001b[1;33m.\u001b[0m\u001b[0mbasename\u001b[0m\u001b[1;33m(\u001b[0m\u001b[0mb\u001b[0m\u001b[1;33m)\u001b[0m\u001b[1;33m,\u001b[0m \u001b[0mprint\u001b[0m\u001b[1;33m(\u001b[0m\u001b[0ma\u001b[0m\u001b[1;33m,\u001b[0m\u001b[0mb\u001b[0m\u001b[1;33m)\u001b[0m\u001b[1;33m\u001b[0m\u001b[1;33m\u001b[0m\u001b[0m\n\u001b[0m",
      "\u001b[1;31mAssertionError\u001b[0m: None"
     ]
    }
   ],
   "metadata": {}
  },
  {
   "cell_type": "code",
   "execution_count": 43,
   "source": [
    "from glob import glob\r\n",
    "import os.path as opth\r\n",
    "\r\n",
    "mel_paths_s = glob('./preprocessed_data/jsut_jsss_jvs/source/mel/*.npy')\r\n",
    "mel_paths_t = glob('./preprocessed_data/jsut_jsss_jvs/target/mel/*.npy')\r\n",
    "\r\n",
    "s_mel_base = set([opth.basename(path_) for path_ in mel_paths_s])\r\n",
    "t_mel_base = set([opth.basename(path_) for path_ in mel_paths_t])\r\n",
    "\r\n",
    "print(len(s_mel_base))\r\n",
    "print(len(t_mel_base))\r\n",
    "print(len(s_mel_base&t_mel_base))\r\n",
    "\r\n",
    "s_mel_diff = s_mel_base - t_mel_base # surceから消したいもの\r\n",
    "t_mel_diff = t_mel_base - s_mel_base # targetから消したいもの\r\n",
    "\r\n",
    "for s_mel_path in s_mel_diff:\r\n",
    "    os.remove('./preprocessed_data/jsut_jsss_jvs/source/mel/' + s_mel_path)\r\n",
    "    base_name = s_mel_path.replace(\"mel-\", \"\")\r\n",
    "\r\n",
    "    os.remove('./preprocessed_data/jsut_jsss_jvs/source/energy/' + \"energy-\"+base_name)\r\n",
    "    os.remove('./preprocessed_data/jsut_jsss_jvs/source/pitch/' + \"pitch-\"+base_name)\r\n",
    "\r\n",
    "for t_mel_path in t_mel_diff:\r\n",
    "    os.remove('./preprocessed_data/jsut_jsss_jvs/target/mel/' + t_mel_path)\r\n",
    "    base_name = t_mel_path.replace(\"mel-\", \"\")\r\n",
    "\r\n",
    "    os.remove('./preprocessed_data/jsut_jsss_jvs/target/energy/' + \"energy-\"+base_name)\r\n",
    "    os.remove('./preprocessed_data/jsut_jsss_jvs/target/pitch/' + \"pitch-\"+base_name)\r\n"
   ],
   "outputs": [
    {
     "output_type": "stream",
     "name": "stdout",
     "text": [
      "45250\n",
      "45250\n",
      "45250\n"
     ]
    }
   ],
   "metadata": {}
  },
  {
   "cell_type": "code",
   "execution_count": 5,
   "source": [
    "# ちゃんと存在しているかチェック(さっきはしていなかった)\r\n",
    "import glob\r\n",
    "import os\r\n",
    "import tqdm\r\n",
    "s_wav_path = glob.glob('./preprocessed_data/jsut_jsss_jvs/source/mel/*.npy')\r\n",
    "t_wav_path = glob.glob('./preprocessed_data/jsut_jsss_jvs/target/mel/*.npy')\r\n",
    "\r\n",
    "for a, b in tqdm.tqdm(zip(s_wav_path, t_wav_path)):\r\n",
    "    assert os.path.basename(a) == os.path.basename(b), print(a,b)\r\n",
    "\r\n",
    "s_wav_path = glob.glob('./preprocessed_data/jsut_jsss_jvs/source/energy/*.npy')\r\n",
    "t_wav_path = glob.glob('./preprocessed_data/jsut_jsss_jvs/target/energy/*.npy')\r\n",
    "\r\n",
    "for a, b in tqdm.tqdm(zip(s_wav_path, t_wav_path)):\r\n",
    "    assert os.path.basename(a) == os.path.basename(b), print(a,b)\r\n",
    "\r\n",
    "s_wav_path = glob.glob('./preprocessed_data/jsut_jsss_jvs/source/pitch/*.npy')\r\n",
    "t_wav_path = glob.glob('./preprocessed_data/jsut_jsss_jvs/target/pitch/*.npy')\r\n",
    "\r\n",
    "for a, b in tqdm.tqdm(zip(s_wav_path, t_wav_path)):\r\n",
    "    assert os.path.basename(a) == os.path.basename(b), print(a,b)"
   ],
   "outputs": [
    {
     "output_type": "stream",
     "name": "stderr",
     "text": [
      "0it [00:00, ?it/s]"
     ]
    },
    {
     "output_type": "stream",
     "name": "stdout",
     "text": [
      "219\n"
     ]
    },
    {
     "output_type": "stream",
     "name": "stderr",
     "text": [
      "\n"
     ]
    },
    {
     "output_type": "error",
     "ename": "NameError",
     "evalue": "name 'aaa' is not defined",
     "traceback": [
      "\u001b[1;31m---------------------------------------------------------------------------\u001b[0m",
      "\u001b[1;31mNameError\u001b[0m                                 Traceback (most recent call last)",
      "\u001b[1;32m<ipython-input-5-352d39735de6>\u001b[0m in \u001b[0;36m<module>\u001b[1;34m\u001b[0m\n\u001b[0;32m      9\u001b[0m \u001b[1;32mfor\u001b[0m \u001b[0ma\u001b[0m\u001b[1;33m,\u001b[0m \u001b[0mb\u001b[0m \u001b[1;32min\u001b[0m \u001b[0mtqdm\u001b[0m\u001b[1;33m.\u001b[0m\u001b[0mtqdm\u001b[0m\u001b[1;33m(\u001b[0m\u001b[0mzip\u001b[0m\u001b[1;33m(\u001b[0m\u001b[0ms_wav_path\u001b[0m\u001b[1;33m,\u001b[0m \u001b[0mt_wav_path\u001b[0m\u001b[1;33m)\u001b[0m\u001b[1;33m)\u001b[0m\u001b[1;33m:\u001b[0m\u001b[1;33m\u001b[0m\u001b[1;33m\u001b[0m\u001b[0m\n\u001b[0;32m     10\u001b[0m     \u001b[0mprint\u001b[0m\u001b[1;33m(\u001b[0m\u001b[0mnp\u001b[0m\u001b[1;33m.\u001b[0m\u001b[0mload\u001b[0m\u001b[1;33m(\u001b[0m\u001b[0ma\u001b[0m\u001b[1;33m)\u001b[0m\u001b[1;33m.\u001b[0m\u001b[0mshape\u001b[0m\u001b[1;33m[\u001b[0m\u001b[1;36m0\u001b[0m\u001b[1;33m]\u001b[0m\u001b[1;33m)\u001b[0m\u001b[1;33m\u001b[0m\u001b[1;33m\u001b[0m\u001b[0m\n\u001b[1;32m---> 11\u001b[1;33m     \u001b[0maaa\u001b[0m\u001b[1;33m\u001b[0m\u001b[1;33m\u001b[0m\u001b[0m\n\u001b[0m\u001b[0;32m     12\u001b[0m     \u001b[1;32massert\u001b[0m \u001b[0mos\u001b[0m\u001b[1;33m.\u001b[0m\u001b[0mpath\u001b[0m\u001b[1;33m.\u001b[0m\u001b[0mbasename\u001b[0m\u001b[1;33m(\u001b[0m\u001b[0ma\u001b[0m\u001b[1;33m)\u001b[0m \u001b[1;33m==\u001b[0m \u001b[0mos\u001b[0m\u001b[1;33m.\u001b[0m\u001b[0mpath\u001b[0m\u001b[1;33m.\u001b[0m\u001b[0mbasename\u001b[0m\u001b[1;33m(\u001b[0m\u001b[0mb\u001b[0m\u001b[1;33m)\u001b[0m\u001b[1;33m,\u001b[0m \u001b[0mprint\u001b[0m\u001b[1;33m(\u001b[0m\u001b[0ma\u001b[0m\u001b[1;33m,\u001b[0m\u001b[0mb\u001b[0m\u001b[1;33m)\u001b[0m\u001b[1;33m\u001b[0m\u001b[1;33m\u001b[0m\u001b[0m\n\u001b[0;32m     13\u001b[0m \u001b[1;33m\u001b[0m\u001b[0m\n",
      "\u001b[1;31mNameError\u001b[0m: name 'aaa' is not defined"
     ]
    }
   ],
   "metadata": {}
  },
  {
   "cell_type": "code",
   "execution_count": 48,
   "source": [
    "import numpy as np \r\n",
    "from glob import glob\r\n",
    "\r\n",
    "val_size = 1000\r\n",
    "out_dir = \"./preprocessed_data/jsut_jsss_jvs\"\r\n",
    "\r\n",
    "mel_paths_s = glob('./preprocessed_data/jsut_jsss_jvs/source/mel/*.npy')\r\n",
    "\r\n",
    "out = []\r\n",
    "speakers = []\r\n",
    "for s_mel_path in mel_paths_s:\r\n",
    "    s_mel_path = os.path.basename(s_mel_path).replace(\".npy\", \"\")\r\n",
    "    base_name = s_mel_path.replace(\"mel-\", \"\")\r\n",
    "    out.append(base_name)\r\n",
    "    speakers.append(base_name.split('_')[0])\r\n",
    "    speakers.append(base_name.split('_')[1])\r\n",
    "\r\n",
    "out = np.array(out)\r\n",
    "index_ = np.random.permutation(len(out))\r\n",
    "train_outs = out[index_[val_size:]]\r\n",
    "valid_outs = out[index_[: val_size]]\r\n",
    "\r\n",
    "for i, source_or_target in enumerate([\"source\", \"target\"]):\r\n",
    "    # Write metadata\r\n",
    "    with open(os.path.join(out_dir, source_or_target, \"train.txt\"), \"w\", encoding=\"utf-8\") as f:\r\n",
    "        for m in train_outs:\r\n",
    "            f.write(m + \"\\n\")\r\n",
    "    with open(os.path.join(out_dir, source_or_target, \"val.txt\"), \"w\", encoding=\"utf-8\") as f:\r\n",
    "        for m in valid_outs:\r\n",
    "            f.write(m + \"\\n\")\r\n",
    "\r\n",
    "assert train_outs[0][0] == train_outs[1][0]\r\n",
    "assert valid_outs[0][0] == valid_outs[1][0]\r\n",
    "\r\n",
    "speakers = set(speakers)\r\n",
    "with open(os.path.join(out_dir, \"speakers.txt\"), \"w\", encoding=\"utf-8\") as f:\r\n",
    "    for speaker in speakers:\r\n",
    "        f.write(speaker + '\\n')\r\n",
    "print(\"正しく想定したspeakersが記録されたか確認してください.\")"
   ],
   "outputs": [
    {
     "output_type": "stream",
     "name": "stdout",
     "text": [
      "正しく想定したspeakersが記録されたか確認してください.\n"
     ]
    }
   ],
   "metadata": {}
  },
  {
   "cell_type": "code",
   "execution_count": 84,
   "source": [
    "# ないとは思うが, pitch, energy, mel, duration全てのshapeが一致しているかチェック.\r\n",
    "# jvs006_jvs016_048.npyあかん\r\n",
    "# jvs031_jvs016_048\r\n",
    "# jvs055_jvs016_048\r\n",
    "# jvs081_jvs016_048\r\n",
    "\r\n",
    "from glob import glob \r\n",
    "import os \r\n",
    "import numpy as np\r\n",
    "from tqdm import tqdm\r\n",
    "\r\n",
    "duration_path = glob(\"./preprocessed_data/jsut_jsss_jvs_2/source/duration/*.npy\")\r\n",
    "reduction_factor = 3\r\n",
    "\r\n",
    "# for i, path_ in tqdm(enumerate(duration_path)):\r\n",
    "#     if i < 0:\r\n",
    "#         continue\r\n",
    "#     basename = os.path.basename(path_).replace(\"duration-\", \"\")\r\n",
    "#     if basename in [\"jvs006_jvs016_048.npy\", \"jvs009_jvs002_095.npy\", \"jvs009_jvs058_095.npy\", \"jvs009_jvs064_095.npy\", \"jvs009_jvs098_095.npy\", \"jvs017_jvs009_095.npy\", \"jvs031_jvs016_048.npy\", \"jvs043_jvs009_095.npy\", \"jvs055_jvs016_048.npy\", \"jvs067_jvs009_095.npy\", \"jvs081_jvs016_048.npy\", \"jvs093_jvs009_095.npy\"]:\r\n",
    "#         continue\r\n",
    "#     duration = np.load(path_)\r\n",
    "#     mel = np.load(os.path.join(\"./preprocessed_data/jsut_jsss_jvs_2/target/mel/\", \"mel-\"+basename))\r\n",
    "#     energy = np.load(os.path.join(\"./preprocessed_data/jsut_jsss_jvs_2/target/energy/\", \"energy-\"+basename))\r\n",
    "#     pitch = np.load(os.path.join(\"./preprocessed_data/jsut_jsss_jvs_2/target/pitch/\", \"pitch-\"+basename))\r\n",
    "#     assert duration.sum() == mel.shape[0]\r\n",
    "#     assert duration.sum() == energy.shape[0]\r\n",
    "#     assert duration.sum() == pitch.shape[0], print(basename)\r\n",
    "\r\n",
    "\r\n",
    "for i, path_ in tqdm(enumerate(duration_path)):\r\n",
    "    if i < 0:\r\n",
    "        continue\r\n",
    "    basename = os.path.basename(path_).replace(\"duration-\", \"\")\r\n",
    "    if basename in [\"jvs006_jvs016_048.npy\", \"jvs009_jvs002_095.npy\", \"jvs009_jvs058_095.npy\", \"jvs009_jvs064_095.npy\", \"jvs009_jvs098_095.npy\", \"jvs017_jvs009_095.npy\", \"jvs031_jvs016_048.npy\", \"jvs043_jvs009_095.npy\", \"jvs055_jvs016_048.npy\", \"jvs067_jvs009_095.npy\", \"jvs081_jvs016_048.npy\", \"jvs093_jvs009_095.npy\", \"jvs016_jvs024_048.npy\", \"jvs016_jvs027_048.npy\", \"jvs016_jvs036_048.npy\", \"jvs016_jvs044_048.npy\"]:\r\n",
    "        continue\r\n",
    "    duration = np.load(path_)\r\n",
    "    mel = np.load(os.path.join(\"./preprocessed_data/jsut_jsss_jvs_2/source/mel/\", \"mel-\"+basename))\r\n",
    "    energy = np.load(os.path.join(\"./preprocessed_data/jsut_jsss_jvs_2/source/energy/\", \"energy-\"+basename))\r\n",
    "    pitch = np.load(os.path.join(\"./preprocessed_data/jsut_jsss_jvs_2/source/pitch/\", \"pitch-\"+basename))\r\n",
    "    \r\n",
    "    # print(duration.shape, (mel.shape[0]+2)//reduction_factor, (energy.shape[0]+2)//reduction_factor)\r\n",
    "    assert duration.shape[0] == (mel.shape[0]+2)//reduction_factor, print(basename, duration.shape, mel.shape)\r\n",
    "    assert mel.shape[0] == energy.shape[0], print(basename)\r\n",
    "    assert mel.shape[0] == pitch.shape[0], print(basename)\r\n"
   ],
   "outputs": [
    {
     "output_type": "stream",
     "name": "stderr",
     "text": [
      "7854it [03:10, 41.28it/s]\n"
     ]
    },
    {
     "output_type": "error",
     "ename": "KeyboardInterrupt",
     "evalue": "",
     "traceback": [
      "\u001b[1;31m---------------------------------------------------------------------------\u001b[0m",
      "\u001b[1;31mKeyboardInterrupt\u001b[0m                         Traceback (most recent call last)",
      "\u001b[1;32m<ipython-input-84-877c19ca9ac1>\u001b[0m in \u001b[0;36m<module>\u001b[1;34m\u001b[0m\n\u001b[0;32m     34\u001b[0m     \u001b[1;32mif\u001b[0m \u001b[0mbasename\u001b[0m \u001b[1;32min\u001b[0m \u001b[1;33m[\u001b[0m\u001b[1;34m\"jvs006_jvs016_048.npy\"\u001b[0m\u001b[1;33m,\u001b[0m \u001b[1;34m\"jvs009_jvs002_095.npy\"\u001b[0m\u001b[1;33m,\u001b[0m \u001b[1;34m\"jvs009_jvs058_095.npy\"\u001b[0m\u001b[1;33m,\u001b[0m \u001b[1;34m\"jvs009_jvs064_095.npy\"\u001b[0m\u001b[1;33m,\u001b[0m \u001b[1;34m\"jvs009_jvs098_095.npy\"\u001b[0m\u001b[1;33m,\u001b[0m \u001b[1;34m\"jvs017_jvs009_095.npy\"\u001b[0m\u001b[1;33m,\u001b[0m \u001b[1;34m\"jvs031_jvs016_048.npy\"\u001b[0m\u001b[1;33m,\u001b[0m \u001b[1;34m\"jvs043_jvs009_095.npy\"\u001b[0m\u001b[1;33m,\u001b[0m \u001b[1;34m\"jvs055_jvs016_048.npy\"\u001b[0m\u001b[1;33m,\u001b[0m \u001b[1;34m\"jvs067_jvs009_095.npy\"\u001b[0m\u001b[1;33m,\u001b[0m \u001b[1;34m\"jvs081_jvs016_048.npy\"\u001b[0m\u001b[1;33m,\u001b[0m \u001b[1;34m\"jvs093_jvs009_095.npy\"\u001b[0m\u001b[1;33m,\u001b[0m \u001b[1;34m\"jvs016_jvs024_048.npy\"\u001b[0m\u001b[1;33m,\u001b[0m \u001b[1;34m\"jvs016_jvs027_048.npy\"\u001b[0m\u001b[1;33m,\u001b[0m \u001b[1;34m\"jvs016_jvs036_048.npy\"\u001b[0m\u001b[1;33m,\u001b[0m \u001b[1;34m\"jvs016_jvs044_048.npy\"\u001b[0m\u001b[1;33m]\u001b[0m\u001b[1;33m:\u001b[0m\u001b[1;33m\u001b[0m\u001b[1;33m\u001b[0m\u001b[0m\n\u001b[0;32m     35\u001b[0m         \u001b[1;32mcontinue\u001b[0m\u001b[1;33m\u001b[0m\u001b[1;33m\u001b[0m\u001b[0m\n\u001b[1;32m---> 36\u001b[1;33m     \u001b[0mduration\u001b[0m \u001b[1;33m=\u001b[0m \u001b[0mnp\u001b[0m\u001b[1;33m.\u001b[0m\u001b[0mload\u001b[0m\u001b[1;33m(\u001b[0m\u001b[0mpath_\u001b[0m\u001b[1;33m)\u001b[0m\u001b[1;33m\u001b[0m\u001b[1;33m\u001b[0m\u001b[0m\n\u001b[0m\u001b[0;32m     37\u001b[0m     \u001b[0mmel\u001b[0m \u001b[1;33m=\u001b[0m \u001b[0mnp\u001b[0m\u001b[1;33m.\u001b[0m\u001b[0mload\u001b[0m\u001b[1;33m(\u001b[0m\u001b[0mos\u001b[0m\u001b[1;33m.\u001b[0m\u001b[0mpath\u001b[0m\u001b[1;33m.\u001b[0m\u001b[0mjoin\u001b[0m\u001b[1;33m(\u001b[0m\u001b[1;34m\"./preprocessed_data/jsut_jsss_jvs_2/source/mel/\"\u001b[0m\u001b[1;33m,\u001b[0m \u001b[1;34m\"mel-\"\u001b[0m\u001b[1;33m+\u001b[0m\u001b[0mbasename\u001b[0m\u001b[1;33m)\u001b[0m\u001b[1;33m)\u001b[0m\u001b[1;33m\u001b[0m\u001b[1;33m\u001b[0m\u001b[0m\n\u001b[0;32m     38\u001b[0m     \u001b[0menergy\u001b[0m \u001b[1;33m=\u001b[0m \u001b[0mnp\u001b[0m\u001b[1;33m.\u001b[0m\u001b[0mload\u001b[0m\u001b[1;33m(\u001b[0m\u001b[0mos\u001b[0m\u001b[1;33m.\u001b[0m\u001b[0mpath\u001b[0m\u001b[1;33m.\u001b[0m\u001b[0mjoin\u001b[0m\u001b[1;33m(\u001b[0m\u001b[1;34m\"./preprocessed_data/jsut_jsss_jvs_2/source/energy/\"\u001b[0m\u001b[1;33m,\u001b[0m \u001b[1;34m\"energy-\"\u001b[0m\u001b[1;33m+\u001b[0m\u001b[0mbasename\u001b[0m\u001b[1;33m)\u001b[0m\u001b[1;33m)\u001b[0m\u001b[1;33m\u001b[0m\u001b[1;33m\u001b[0m\u001b[0m\n",
      "\u001b[1;32m~\\.conda\\envs\\NARS2S\\lib\\site-packages\\numpy\\lib\\npyio.py\u001b[0m in \u001b[0;36mload\u001b[1;34m(file, mmap_mode, allow_pickle, fix_imports, encoding)\u001b[0m\n\u001b[0;32m    415\u001b[0m             \u001b[0mown_fid\u001b[0m \u001b[1;33m=\u001b[0m \u001b[1;32mFalse\u001b[0m\u001b[1;33m\u001b[0m\u001b[1;33m\u001b[0m\u001b[0m\n\u001b[0;32m    416\u001b[0m         \u001b[1;32melse\u001b[0m\u001b[1;33m:\u001b[0m\u001b[1;33m\u001b[0m\u001b[1;33m\u001b[0m\u001b[0m\n\u001b[1;32m--> 417\u001b[1;33m             \u001b[0mfid\u001b[0m \u001b[1;33m=\u001b[0m \u001b[0mstack\u001b[0m\u001b[1;33m.\u001b[0m\u001b[0menter_context\u001b[0m\u001b[1;33m(\u001b[0m\u001b[0mopen\u001b[0m\u001b[1;33m(\u001b[0m\u001b[0mos_fspath\u001b[0m\u001b[1;33m(\u001b[0m\u001b[0mfile\u001b[0m\u001b[1;33m)\u001b[0m\u001b[1;33m,\u001b[0m \u001b[1;34m\"rb\"\u001b[0m\u001b[1;33m)\u001b[0m\u001b[1;33m)\u001b[0m\u001b[1;33m\u001b[0m\u001b[1;33m\u001b[0m\u001b[0m\n\u001b[0m\u001b[0;32m    418\u001b[0m             \u001b[0mown_fid\u001b[0m \u001b[1;33m=\u001b[0m \u001b[1;32mTrue\u001b[0m\u001b[1;33m\u001b[0m\u001b[1;33m\u001b[0m\u001b[0m\n\u001b[0;32m    419\u001b[0m \u001b[1;33m\u001b[0m\u001b[0m\n",
      "\u001b[1;31mKeyboardInterrupt\u001b[0m: "
     ]
    }
   ],
   "metadata": {}
  },
  {
   "cell_type": "code",
   "execution_count": 65,
   "source": [
    "import numpy as np \r\n",
    "\r\n",
    "\r\n",
    "def inverse_reduction(x, reduction_factor):\r\n",
    "    # reduction_factor分, targetを戻していく.\r\n",
    "    sort_index = np.array([np.arange(0, x.shape[-1]) + 4*i for i in range(reduction_factor)]).T.reshape(-1)\r\n",
    "    if len(x.shape) == 1:\r\n",
    "        x = np.tile(x, reduction_factor)[sort_index]\r\n",
    "    elif len(x.shape) == 2:\r\n",
    "        x = np.tile(x, (1, reduction_factor))[:, sort_index]\r\n",
    "    elif len(x.shape) == 3:\r\n",
    "        x = np.tile(x, (1, 1, reduction_factor))[:, :, sort_index]\r\n",
    "    else:\r\n",
    "        raise ValueError(\"未対応です\")\r\n",
    "    return x\r\n",
    "\r\n",
    "x1 = np.array([1,2,3,4])\r\n",
    "x2 = np.array([[1,2,3,4], [2,3,4,5]])\r\n",
    "x3 = np.array([[[1,2,3,4], [2,3,4,5]], [[3,4,5,6], [4,5,6,7]]])\r\n",
    "# print(\"x1: \", x1)\r\n",
    "# print(\"x2: \",x2)\r\n",
    "# print(\"x3: \",x3)\r\n",
    "x1 = inverse_reduction(x1, 3)\r\n",
    "x2 = inverse_reduction(x2, 3)\r\n",
    "x3 = inverse_reduction(x3, 3)\r\n"
   ],
   "outputs": [
    {
     "output_type": "stream",
     "name": "stdout",
     "text": [
      "x1:  [1 1 1 2 2 2 3 3 3 4 4 4]\n",
      "x2:  [[1 1 1 2 2 2 3 3 3 4 4 4]\n",
      " [2 2 2 3 3 3 4 4 4 5 5 5]]\n",
      "x3:  [[[1 1 1 2 2 2 3 3 3 4 4 4]\n",
      "  [2 2 2 3 3 3 4 4 4 5 5 5]]\n",
      "\n",
      " [[3 3 3 4 4 4 5 5 5 6 6 6]\n",
      "  [4 4 4 5 5 5 6 6 6 7 7 7]]]\n"
     ]
    }
   ],
   "metadata": {}
  },
  {
   "cell_type": "code",
   "execution_count": 66,
   "source": [
    "x3[0]"
   ],
   "outputs": [
    {
     "output_type": "execute_result",
     "data": {
      "text/plain": [
       "array([[1, 1, 1, 2, 2, 2, 3, 3, 3, 4, 4, 4],\n",
       "       [2, 2, 2, 3, 3, 3, 4, 4, 4, 5, 5, 5]])"
      ]
     },
     "metadata": {},
     "execution_count": 66
    }
   ],
   "metadata": {}
  },
  {
   "cell_type": "code",
   "execution_count": null,
   "source": [],
   "outputs": [],
   "metadata": {}
  }
 ],
 "metadata": {
  "interpreter": {
   "hash": "45caa6b2e5a2c86d7a0db7991c42a84d0b8f8ed17a396e2be86248c1b3728206"
  },
  "kernelspec": {
   "display_name": "Python 3.8.10 64-bit ('NARS2S': conda)",
   "name": "python3"
  },
  "language_info": {
   "codemirror_mode": {
    "name": "ipython",
    "version": 3
   },
   "file_extension": ".py",
   "mimetype": "text/x-python",
   "name": "python",
   "nbconvert_exporter": "python",
   "pygments_lexer": "ipython3",
   "version": "3.8.10"
  },
  "orig_nbformat": 4
 },
 "nbformat": 4,
 "nbformat_minor": 2
}