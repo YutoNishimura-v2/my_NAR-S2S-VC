{
 "cells": [
  {
   "cell_type": "markdown",
   "source": [
    "# melのチェックを行う用のノートブック"
   ],
   "metadata": {}
  },
  {
   "cell_type": "code",
   "execution_count": null,
   "source": [
    "# ここに確認したいwavを配置.\r\n",
    "\r\n",
    "input_wav_paths = ['./pre_voice/Universal/jsut_ver1.1_BASIC5000_0001.wav', './pre_voice/Universal/VCTK-Corpus_p257_256.wav']\r\n",
    "\r\n",
    "p_config = './config/JSUT_JSSS/preprocess.yaml'"
   ],
   "outputs": [],
   "metadata": {}
  },
  {
   "cell_type": "code",
   "execution_count": null,
   "source": [
    "# まずは, NARS2Sのほう.\r\n",
    "import yaml\r\n",
    "\r\n",
    "from utils.utils import get_mels, plot_mels\r\n",
    "\r\n",
    "preprocess_config = yaml.load(\r\n",
    "        open(p_config, \"r\", encoding='utf-8'), Loader=yaml.FullLoader\r\n",
    "    )\r\n",
    "mels = get_mels(wav_paths=input_wav_paths, config=preprocess_config, mel_num=80)\r\n",
    "\r\n",
    "plot_mels(mels, input_wav_paths, sr=preprocess_config[\"preprocessing\"][\"audio\"][\"sampling_rate\"], sharex=False)"
   ],
   "outputs": [],
   "metadata": {}
  },
  {
   "cell_type": "code",
   "execution_count": null,
   "source": [
    "# hifiganのものでmelを作ってみる.\r\n",
    "import os\r\n",
    "\r\n",
    "from tqdm import tqdm\r\n",
    "import torch\r\n",
    "\r\n",
    "from hifigan.meldataset import load_wav, mel_spectrogram\r\n",
    "\r\n",
    "mels = []\r\n",
    "\r\n",
    "sr = preprocess_config[\"preprocessing\"][\"audio\"][\"sampling_rate\"]\r\n",
    "n_fft = preprocess_config[\"preprocessing\"][\"stft\"][\"filter_length\"]\r\n",
    "num_mels = preprocess_config[\"preprocessing\"][\"mel\"][\"n_mel_channels\"]\r\n",
    "hop_size = preprocess_config[\"preprocessing\"][\"stft\"][\"hop_length\"]\r\n",
    "win_size = preprocess_config[\"preprocessing\"][\"stft\"][\"win_length\"]\r\n",
    "fmin = preprocess_config[\"preprocessing\"][\"mel\"][\"mel_fmin\"]\r\n",
    "fmax = preprocess_config[\"preprocessing\"][\"mel\"][\"mel_fmax\"]\r\n",
    "\r\n",
    "for wav_path in tqdm(input_wav_paths):\r\n",
    "    audio, sampling_rate = load_wav(wav_path, sr)\r\n",
    "    assert sampling_rate == sr\r\n",
    "    # audio = audio / 32768.0\r\n",
    "    audio = torch.FloatTensor(audio).to(\"cuda\")\r\n",
    "    audio = audio.unsqueeze(0)\r\n",
    "\r\n",
    "    mel = mel_spectrogram(audio, n_fft, num_mels, sr,\r\n",
    "                            hop_size, win_size, fmin, fmax)\r\n",
    "    mel = mel.squeeze(0).cpu().numpy()\r\n",
    "    mels.append(mel)\r\n",
    "\r\n",
    "plot_mels(mels, input_wav_paths, sr=sr, sharex=False)\r\n"
   ],
   "outputs": [],
   "metadata": {}
  },
  {
   "cell_type": "code",
   "execution_count": null,
   "source": [
    "import shutil\r\n",
    "import os\r\n",
    "from glob import glob\r\n",
    "from tqdm import tqdm\r\n",
    "\r\n",
    "input_path = './raw_data/JSUT_JSSS/JSSS'\r\n",
    "output_path = './raw_data/JSUT_to_from_JSSS/target'\r\n",
    "\r\n",
    "os.makedirs(output_path, exist_ok=True)\r\n",
    "for t_path in tqdm(glob(os.path.join(input_path,'*.wav'))):\r\n",
    "    output_wav_path = os.path.join(output_path, \"JSUT2JSSS_\"+os.path.basename(t_path))\r\n",
    "    shutil.copy(t_path, output_wav_path)"
   ],
   "outputs": [],
   "metadata": {}
  },
  {
   "cell_type": "code",
   "execution_count": null,
   "source": [
    "import shutil\r\n",
    "import os\r\n",
    "from glob import glob\r\n",
    "from tqdm import tqdm\r\n",
    "\r\n",
    "input_path = './raw_data/JSUT_to_from_JSSS'\r\n",
    "\r\n",
    "for t_path in tqdm(glob(os.path.join(input_path,'**/*.wav'), recursive=True)):\r\n",
    "    output_wav_path = t_path\r\n",
    "    if \"JSSS2JSUT\" in t_path:\r\n",
    "        output_wav_path = output_wav_path.replace(\"JSSS2JSUT\", \"JSSS_JSUT\")\r\n",
    "    elif \"JSUT2JSSS\" in t_path:\r\n",
    "        output_wav_path = output_wav_path.replace(\"JSUT2JSSS\", \"JSUT_JSSS\")\r\n",
    "    os.rename(t_path, output_wav_path)"
   ],
   "outputs": [],
   "metadata": {}
  },
  {
   "cell_type": "code",
   "execution_count": 30,
   "source": [
    "# ちゃんと存在しているかチェック(さっきはしていなかった)\r\n",
    "import glob\r\n",
    "import os\r\n",
    "import tqdm\r\n",
    "\r\n",
    "s_wav_path = glob.glob('./pre_voice/jsut_jsss_jvs/source/*.wav')\r\n",
    "t_wav_path = glob.glob('./pre_voice/jsut_jsss_jvs/target/*.wav')\r\n",
    "\r\n",
    "for a, b in tqdm.tqdm(zip(s_wav_path, t_wav_path)):\r\n",
    "    assert os.path.basename(a) == os.path.basename(b), print(a,b)"
   ],
   "outputs": [
    {
     "output_type": "stream",
     "name": "stderr",
     "text": [
      "45258it [00:00, 109583.38it/s]\n"
     ]
    }
   ],
   "metadata": {}
  },
  {
   "cell_type": "code",
   "execution_count": 32,
   "source": [
    "# ちゃんと存在しているかチェック(さっきはしていなかった)\r\n",
    "import glob\r\n",
    "import os\r\n",
    "import tqdm\r\n",
    "\r\n",
    "s_wav_path = glob.glob('./preprocessed_data/jsut_jsss_jvs/source/mel/*.npy')\r\n",
    "t_wav_path = glob.glob('./preprocessed_data/jsut_jsss_jvs/target/mel/*.npy')\r\n",
    "\r\n",
    "for a, b in tqdm.tqdm(zip(s_wav_path, t_wav_path)):\r\n",
    "    assert os.path.basename(a) == os.path.basename(b), print(a,b)"
   ],
   "outputs": [
    {
     "output_type": "stream",
     "name": "stderr",
     "text": [
      "9752it [00:00, 88253.51it/s]"
     ]
    },
    {
     "output_type": "stream",
     "name": "stdout",
     "text": [
      "./preprocessed_data/jsut_jsss_jvs/source/mel\\mel-jvs009_jvs002_096.npy ./preprocessed_data/jsut_jsss_jvs/target/mel\\mel-jvs009_jvs002_095.npy\n"
     ]
    },
    {
     "output_type": "stream",
     "name": "stderr",
     "text": [
      "\n"
     ]
    },
    {
     "output_type": "error",
     "ename": "AssertionError",
     "evalue": "None",
     "traceback": [
      "\u001b[1;31m---------------------------------------------------------------------------\u001b[0m",
      "\u001b[1;31mAssertionError\u001b[0m                            Traceback (most recent call last)",
      "\u001b[1;32m<ipython-input-32-352ef0d089e6>\u001b[0m in \u001b[0;36m<module>\u001b[1;34m\u001b[0m\n\u001b[0;32m      8\u001b[0m \u001b[1;33m\u001b[0m\u001b[0m\n\u001b[0;32m      9\u001b[0m \u001b[1;32mfor\u001b[0m \u001b[0ma\u001b[0m\u001b[1;33m,\u001b[0m \u001b[0mb\u001b[0m \u001b[1;32min\u001b[0m \u001b[0mtqdm\u001b[0m\u001b[1;33m.\u001b[0m\u001b[0mtqdm\u001b[0m\u001b[1;33m(\u001b[0m\u001b[0mzip\u001b[0m\u001b[1;33m(\u001b[0m\u001b[0ms_wav_path\u001b[0m\u001b[1;33m,\u001b[0m \u001b[0mt_wav_path\u001b[0m\u001b[1;33m)\u001b[0m\u001b[1;33m)\u001b[0m\u001b[1;33m:\u001b[0m\u001b[1;33m\u001b[0m\u001b[1;33m\u001b[0m\u001b[0m\n\u001b[1;32m---> 10\u001b[1;33m     \u001b[1;32massert\u001b[0m \u001b[0mos\u001b[0m\u001b[1;33m.\u001b[0m\u001b[0mpath\u001b[0m\u001b[1;33m.\u001b[0m\u001b[0mbasename\u001b[0m\u001b[1;33m(\u001b[0m\u001b[0ma\u001b[0m\u001b[1;33m)\u001b[0m \u001b[1;33m==\u001b[0m \u001b[0mos\u001b[0m\u001b[1;33m.\u001b[0m\u001b[0mpath\u001b[0m\u001b[1;33m.\u001b[0m\u001b[0mbasename\u001b[0m\u001b[1;33m(\u001b[0m\u001b[0mb\u001b[0m\u001b[1;33m)\u001b[0m\u001b[1;33m,\u001b[0m \u001b[0mprint\u001b[0m\u001b[1;33m(\u001b[0m\u001b[0ma\u001b[0m\u001b[1;33m,\u001b[0m\u001b[0mb\u001b[0m\u001b[1;33m)\u001b[0m\u001b[1;33m\u001b[0m\u001b[1;33m\u001b[0m\u001b[0m\n\u001b[0m",
      "\u001b[1;31mAssertionError\u001b[0m: None"
     ]
    }
   ],
   "metadata": {}
  },
  {
   "cell_type": "code",
   "execution_count": 43,
   "source": [
    "from glob import glob\r\n",
    "import os.path as opth\r\n",
    "\r\n",
    "mel_paths_s = glob('./preprocessed_data/jsut_jsss_jvs/source/mel/*.npy')\r\n",
    "mel_paths_t = glob('./preprocessed_data/jsut_jsss_jvs/target/mel/*.npy')\r\n",
    "\r\n",
    "s_mel_base = set([opth.basename(path_) for path_ in mel_paths_s])\r\n",
    "t_mel_base = set([opth.basename(path_) for path_ in mel_paths_t])\r\n",
    "\r\n",
    "print(len(s_mel_base))\r\n",
    "print(len(t_mel_base))\r\n",
    "print(len(s_mel_base&t_mel_base))\r\n",
    "\r\n",
    "s_mel_diff = s_mel_base - t_mel_base # surceから消したいもの\r\n",
    "t_mel_diff = t_mel_base - s_mel_base # targetから消したいもの\r\n",
    "\r\n",
    "for s_mel_path in s_mel_diff:\r\n",
    "    os.remove('./preprocessed_data/jsut_jsss_jvs/source/mel/' + s_mel_path)\r\n",
    "    base_name = s_mel_path.replace(\"mel-\", \"\")\r\n",
    "\r\n",
    "    os.remove('./preprocessed_data/jsut_jsss_jvs/source/energy/' + \"energy-\"+base_name)\r\n",
    "    os.remove('./preprocessed_data/jsut_jsss_jvs/source/pitch/' + \"pitch-\"+base_name)\r\n",
    "\r\n",
    "for t_mel_path in t_mel_diff:\r\n",
    "    os.remove('./preprocessed_data/jsut_jsss_jvs/target/mel/' + t_mel_path)\r\n",
    "    base_name = t_mel_path.replace(\"mel-\", \"\")\r\n",
    "\r\n",
    "    os.remove('./preprocessed_data/jsut_jsss_jvs/target/energy/' + \"energy-\"+base_name)\r\n",
    "    os.remove('./preprocessed_data/jsut_jsss_jvs/target/pitch/' + \"pitch-\"+base_name)\r\n"
   ],
   "outputs": [
    {
     "output_type": "stream",
     "name": "stdout",
     "text": [
      "45250\n",
      "45250\n",
      "45250\n"
     ]
    }
   ],
   "metadata": {}
  },
  {
   "cell_type": "code",
   "execution_count": 5,
   "source": [
    "# ちゃんと存在しているかチェック(さっきはしていなかった)\r\n",
    "import glob\r\n",
    "import os\r\n",
    "import tqdm\r\n",
    "s_wav_path = glob.glob('./preprocessed_data/jsut_jsss_jvs/source/mel/*.npy')\r\n",
    "t_wav_path = glob.glob('./preprocessed_data/jsut_jsss_jvs/target/mel/*.npy')\r\n",
    "\r\n",
    "for a, b in tqdm.tqdm(zip(s_wav_path, t_wav_path)):\r\n",
    "    assert os.path.basename(a) == os.path.basename(b), print(a,b)\r\n",
    "\r\n",
    "s_wav_path = glob.glob('./preprocessed_data/jsut_jsss_jvs/source/energy/*.npy')\r\n",
    "t_wav_path = glob.glob('./preprocessed_data/jsut_jsss_jvs/target/energy/*.npy')\r\n",
    "\r\n",
    "for a, b in tqdm.tqdm(zip(s_wav_path, t_wav_path)):\r\n",
    "    assert os.path.basename(a) == os.path.basename(b), print(a,b)\r\n",
    "\r\n",
    "s_wav_path = glob.glob('./preprocessed_data/jsut_jsss_jvs/source/pitch/*.npy')\r\n",
    "t_wav_path = glob.glob('./preprocessed_data/jsut_jsss_jvs/target/pitch/*.npy')\r\n",
    "\r\n",
    "for a, b in tqdm.tqdm(zip(s_wav_path, t_wav_path)):\r\n",
    "    assert os.path.basename(a) == os.path.basename(b), print(a,b)"
   ],
   "outputs": [
    {
     "output_type": "stream",
     "name": "stderr",
     "text": [
      "0it [00:00, ?it/s]"
     ]
    },
    {
     "output_type": "stream",
     "name": "stdout",
     "text": [
      "219\n"
     ]
    },
    {
     "output_type": "stream",
     "name": "stderr",
     "text": [
      "\n"
     ]
    },
    {
     "output_type": "error",
     "ename": "NameError",
     "evalue": "name 'aaa' is not defined",
     "traceback": [
      "\u001b[1;31m---------------------------------------------------------------------------\u001b[0m",
      "\u001b[1;31mNameError\u001b[0m                                 Traceback (most recent call last)",
      "\u001b[1;32m<ipython-input-5-352d39735de6>\u001b[0m in \u001b[0;36m<module>\u001b[1;34m\u001b[0m\n\u001b[0;32m      9\u001b[0m \u001b[1;32mfor\u001b[0m \u001b[0ma\u001b[0m\u001b[1;33m,\u001b[0m \u001b[0mb\u001b[0m \u001b[1;32min\u001b[0m \u001b[0mtqdm\u001b[0m\u001b[1;33m.\u001b[0m\u001b[0mtqdm\u001b[0m\u001b[1;33m(\u001b[0m\u001b[0mzip\u001b[0m\u001b[1;33m(\u001b[0m\u001b[0ms_wav_path\u001b[0m\u001b[1;33m,\u001b[0m \u001b[0mt_wav_path\u001b[0m\u001b[1;33m)\u001b[0m\u001b[1;33m)\u001b[0m\u001b[1;33m:\u001b[0m\u001b[1;33m\u001b[0m\u001b[1;33m\u001b[0m\u001b[0m\n\u001b[0;32m     10\u001b[0m     \u001b[0mprint\u001b[0m\u001b[1;33m(\u001b[0m\u001b[0mnp\u001b[0m\u001b[1;33m.\u001b[0m\u001b[0mload\u001b[0m\u001b[1;33m(\u001b[0m\u001b[0ma\u001b[0m\u001b[1;33m)\u001b[0m\u001b[1;33m.\u001b[0m\u001b[0mshape\u001b[0m\u001b[1;33m[\u001b[0m\u001b[1;36m0\u001b[0m\u001b[1;33m]\u001b[0m\u001b[1;33m)\u001b[0m\u001b[1;33m\u001b[0m\u001b[1;33m\u001b[0m\u001b[0m\n\u001b[1;32m---> 11\u001b[1;33m     \u001b[0maaa\u001b[0m\u001b[1;33m\u001b[0m\u001b[1;33m\u001b[0m\u001b[0m\n\u001b[0m\u001b[0;32m     12\u001b[0m     \u001b[1;32massert\u001b[0m \u001b[0mos\u001b[0m\u001b[1;33m.\u001b[0m\u001b[0mpath\u001b[0m\u001b[1;33m.\u001b[0m\u001b[0mbasename\u001b[0m\u001b[1;33m(\u001b[0m\u001b[0ma\u001b[0m\u001b[1;33m)\u001b[0m \u001b[1;33m==\u001b[0m \u001b[0mos\u001b[0m\u001b[1;33m.\u001b[0m\u001b[0mpath\u001b[0m\u001b[1;33m.\u001b[0m\u001b[0mbasename\u001b[0m\u001b[1;33m(\u001b[0m\u001b[0mb\u001b[0m\u001b[1;33m)\u001b[0m\u001b[1;33m,\u001b[0m \u001b[0mprint\u001b[0m\u001b[1;33m(\u001b[0m\u001b[0ma\u001b[0m\u001b[1;33m,\u001b[0m\u001b[0mb\u001b[0m\u001b[1;33m)\u001b[0m\u001b[1;33m\u001b[0m\u001b[1;33m\u001b[0m\u001b[0m\n\u001b[0;32m     13\u001b[0m \u001b[1;33m\u001b[0m\u001b[0m\n",
      "\u001b[1;31mNameError\u001b[0m: name 'aaa' is not defined"
     ]
    }
   ],
   "metadata": {}
  },
  {
   "cell_type": "code",
   "execution_count": 48,
   "source": [
    "import numpy as np \r\n",
    "from glob import glob\r\n",
    "\r\n",
    "val_size = 1000\r\n",
    "out_dir = \"./preprocessed_data/jsut_jsss_jvs\"\r\n",
    "\r\n",
    "mel_paths_s = glob('./preprocessed_data/jsut_jsss_jvs/source/mel/*.npy')\r\n",
    "\r\n",
    "out = []\r\n",
    "speakers = []\r\n",
    "for s_mel_path in mel_paths_s:\r\n",
    "    s_mel_path = os.path.basename(s_mel_path).replace(\".npy\", \"\")\r\n",
    "    base_name = s_mel_path.replace(\"mel-\", \"\")\r\n",
    "    out.append(base_name)\r\n",
    "    speakers.append(base_name.split('_')[0])\r\n",
    "    speakers.append(base_name.split('_')[1])\r\n",
    "\r\n",
    "out = np.array(out)\r\n",
    "index_ = np.random.permutation(len(out))\r\n",
    "train_outs = out[index_[val_size:]]\r\n",
    "valid_outs = out[index_[: val_size]]\r\n",
    "\r\n",
    "for i, source_or_target in enumerate([\"source\", \"target\"]):\r\n",
    "    # Write metadata\r\n",
    "    with open(os.path.join(out_dir, source_or_target, \"train.txt\"), \"w\", encoding=\"utf-8\") as f:\r\n",
    "        for m in train_outs:\r\n",
    "            f.write(m + \"\\n\")\r\n",
    "    with open(os.path.join(out_dir, source_or_target, \"val.txt\"), \"w\", encoding=\"utf-8\") as f:\r\n",
    "        for m in valid_outs:\r\n",
    "            f.write(m + \"\\n\")\r\n",
    "\r\n",
    "assert train_outs[0][0] == train_outs[1][0]\r\n",
    "assert valid_outs[0][0] == valid_outs[1][0]\r\n",
    "\r\n",
    "speakers = set(speakers)\r\n",
    "with open(os.path.join(out_dir, \"speakers.txt\"), \"w\", encoding=\"utf-8\") as f:\r\n",
    "    for speaker in speakers:\r\n",
    "        f.write(speaker + '\\n')\r\n",
    "print(\"正しく想定したspeakersが記録されたか確認してください.\")"
   ],
   "outputs": [
    {
     "output_type": "stream",
     "name": "stdout",
     "text": [
      "正しく想定したspeakersが記録されたか確認してください.\n"
     ]
    }
   ],
   "metadata": {}
  },
  {
   "cell_type": "code",
   "execution_count": 24,
   "source": [
    "# ないとは思うが, pitch, energy, mel, duration全てのshapeが一致しているかチェック.\r\n",
    "# jvs006_jvs016_048.npyあかん\r\n",
    "# jvs031_jvs016_048\r\n",
    "# jvs055_jvs016_048\r\n",
    "# jvs081_jvs016_048\r\n",
    "\r\n",
    "from glob import glob \r\n",
    "import os \r\n",
    "import numpy as np\r\n",
    "from tqdm import tqdm\r\n",
    "\r\n",
    "duration_path = glob(\"./preprocessed_data/jsut_jsss_jvs/source/duration/*.npy\")\r\n",
    "\r\n",
    "for i, path_ in tqdm(enumerate(duration_path)):\r\n",
    "    if i < 42100:\r\n",
    "        continue\r\n",
    "    basename = os.path.basename(path_).replace(\"duration-\", \"\")\r\n",
    "    if basename in [\"jvs006_jvs016_048.npy\", \"jvs009_jvs002_095.npy\", \"jvs009_jvs058_095.npy\", \"jvs009_jvs064_095.npy\", \"jvs009_jvs098_095.npy\", \"jvs017_jvs009_095.npy\", \"jvs031_jvs016_048.npy\", \"jvs043_jvs009_095.npy\", \"jvs055_jvs016_048.npy\", \"jvs067_jvs009_095.npy\", \"jvs081_jvs016_048.npy\", \"jvs093_jvs009_095.npy\"]:\r\n",
    "        continue\r\n",
    "    duration = np.load(path_)\r\n",
    "    mel = np.load(os.path.join(\"./preprocessed_data/jsut_jsss_jvs/target/mel/\", \"mel-\"+basename))\r\n",
    "    energy = np.load(os.path.join(\"./preprocessed_data/jsut_jsss_jvs/target/energy/\", \"energy-\"+basename))\r\n",
    "    pitch = np.load(os.path.join(\"./preprocessed_data/jsut_jsss_jvs/target/pitch/\", \"pitch-\"+basename))\r\n",
    "    assert duration.sum() == mel.shape[0]\r\n",
    "    assert duration.sum() == energy.shape[0]\r\n",
    "    assert duration.sum() == pitch.shape[0], print(basename)\r\n"
   ],
   "outputs": [
    {
     "output_type": "stream",
     "name": "stderr",
     "text": [
      "42155it [00:00, 329324.23it/s]"
     ]
    }
   ],
   "metadata": {}
  },
  {
   "cell_type": "code",
   "execution_count": 2,
   "source": [
    "import numpy as np \r\n",
    "import matplotlib.pyplot as plt \r\n",
    "\r\n",
    "s = np.load(\"./preprocessed_data/N2C/source/pitch/pitch-n_c_beyond_tokkun-01.npy\")\r\n",
    "t = np.load(\"./preprocessed_data/N2C/target/pitch/pitch-n_c_beyond_tokkun-01.npy\")"
   ],
   "outputs": [],
   "metadata": {}
  },
  {
   "cell_type": "code",
   "execution_count": 5,
   "source": [
    "plt.plot(s)"
   ],
   "outputs": [
    {
     "output_type": "execute_result",
     "data": {
      "text/plain": [
       "[<matplotlib.lines.Line2D at 0x1c349b65970>]"
      ]
     },
     "metadata": {},
     "execution_count": 5
    },
    {
     "output_type": "display_data",
     "data": {
      "text/plain": [
       "<Figure size 432x288 with 1 Axes>"
      ],
      "image/png": "[encoded data removed]"
     },
     "metadata": {
      "needs_background": "light"
     }
    }
   ],
   "metadata": {}
  },
  {
   "cell_type": "code",
   "execution_count": 6,
   "source": [
    "plt.plot(t)"
   ],
   "outputs": [
    {
     "output_type": "execute_result",
     "data": {
      "text/plain": [
       "[<matplotlib.lines.Line2D at 0x1c34a10b640>]"
      ]
     },
     "metadata": {},
     "execution_count": 6
    },
    {
     "output_type": "display_data",
     "data": {
      "text/plain": [
       "<Figure size 432x288 with 1 Axes>"
      ],
      "image/png": "[encoded data removed]"
     },
     "metadata": {
      "needs_background": "light"
     }
    }
   ],
   "metadata": {}
  },
  {
   "cell_type": "code",
   "execution_count": null,
   "source": [],
   "outputs": [],
   "metadata": {}
  }
 ],
 "metadata": {
  "interpreter": {
   "hash": "45caa6b2e5a2c86d7a0db7991c42a84d0b8f8ed17a396e2be86248c1b3728206"
  },
  "kernelspec": {
   "display_name": "Python 3.8.10 64-bit ('NARS2S': conda)",
   "name": "python3"
  },
  "language_info": {
   "codemirror_mode": {
    "name": "ipython",
    "version": 3
   },
   "file_extension": ".py",
   "mimetype": "text/x-python",
   "name": "python",
   "nbconvert_exporter": "python",
   "pygments_lexer": "ipython3",
   "version": "3.8.10"
  },
  "orig_nbformat": 4
 },
 "nbformat": 4,
 "nbformat_minor": 2
}